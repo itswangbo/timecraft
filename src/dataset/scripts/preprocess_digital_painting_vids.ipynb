{
 "cells": [
  {
   "cell_type": "code",
   "execution_count": 4,
   "metadata": {},
   "outputs": [
    {
     "name": "stdout",
     "output_type": "stream",
     "text": [
      "Attempting to download https://www.youtube.com/watch?v=sm-L8G_-x4I\n",
      "Downloading stream <Stream: itag=\"18\" mime_type=\"video/mp4\" res=\"360p\" fps=\"30fps\" vcodec=\"avc1.42001E\" acodec=\"mp4a.40.2\" progressive=\"True\" type=\"video\"> to file C:\\Datasets\\temp\\Ancy-Alexander_sm-L8G_-x4I.mp4\n"
     ]
    },
    {
     "ename": "AssertionError",
     "evalue": "Cannot find installation of real FFmpeg (which comes with ffprobe).",
     "traceback": [
      "\u001b[1;31m---------------------------------------------------------------------------\u001b[0m",
      "\u001b[1;31mAssertionError\u001b[0m                            Traceback (most recent call last)",
      "\u001b[1;32m<ipython-input-4-fd68edfa892a>\u001b[0m in \u001b[0;36m<module>\u001b[1;34m()\u001b[0m\n\u001b[0;32m     59\u001b[0m         \u001b[0mvid_info\u001b[0m\u001b[1;33m[\u001b[0m\u001b[1;34m'frames'\u001b[0m\u001b[1;33m]\u001b[0m \u001b[1;33m=\u001b[0m \u001b[1;33m[\u001b[0m\u001b[1;32mNone\u001b[0m\u001b[1;33m]\u001b[0m \u001b[1;33m*\u001b[0m \u001b[0mlen\u001b[0m\u001b[1;33m(\u001b[0m\u001b[0mvid_info\u001b[0m\u001b[1;33m[\u001b[0m\u001b[1;34m'framenums'\u001b[0m\u001b[1;33m]\u001b[0m\u001b[1;33m)\u001b[0m\u001b[1;33m\u001b[0m\u001b[0m\n\u001b[0;32m     60\u001b[0m     \u001b[1;31m# now open the video file we just downloaded, and extract the frames from it\u001b[0m\u001b[1;33m\u001b[0m\u001b[1;33m\u001b[0m\u001b[0m\n\u001b[1;32m---> 61\u001b[1;33m     \u001b[0mreader\u001b[0m \u001b[1;33m=\u001b[0m \u001b[0mskvio\u001b[0m\u001b[1;33m.\u001b[0m\u001b[0mFFmpegReader\u001b[0m\u001b[1;33m(\u001b[0m\u001b[0mvid_file\u001b[0m\u001b[1;33m)\u001b[0m\u001b[1;33m\u001b[0m\u001b[0m\n\u001b[0m\u001b[0;32m     62\u001b[0m \u001b[1;33m\u001b[0m\u001b[0m\n\u001b[0;32m     63\u001b[0m     \u001b[1;32mfor\u001b[0m \u001b[0mi\u001b[0m\u001b[1;33m,\u001b[0m \u001b[0mframe\u001b[0m \u001b[1;32min\u001b[0m \u001b[0menumerate\u001b[0m\u001b[1;33m(\u001b[0m\u001b[0mreader\u001b[0m\u001b[1;33m.\u001b[0m\u001b[0mnextFrame\u001b[0m\u001b[1;33m(\u001b[0m\u001b[1;33m)\u001b[0m\u001b[1;33m)\u001b[0m\u001b[1;33m:\u001b[0m\u001b[1;33m\u001b[0m\u001b[0m\n",
      "\u001b[1;32m~\\Anaconda3\\lib\\site-packages\\skvideo\\io\\ffmpeg.py\u001b[0m in \u001b[0;36m__init__\u001b[1;34m(self, filename, inputdict, outputdict, verbosity)\u001b[0m\n\u001b[0;32m     70\u001b[0m         \"\"\"\n\u001b[0;32m     71\u001b[0m         \u001b[1;31m# check if FFMPEG exists in the path\u001b[0m\u001b[1;33m\u001b[0m\u001b[1;33m\u001b[0m\u001b[0m\n\u001b[1;32m---> 72\u001b[1;33m         \u001b[1;32massert\u001b[0m \u001b[0m_HAS_FFMPEG\u001b[0m\u001b[1;33m,\u001b[0m \u001b[1;34m\"Cannot find installation of real FFmpeg (which comes with ffprobe).\"\u001b[0m\u001b[1;33m\u001b[0m\u001b[0m\n\u001b[0m\u001b[0;32m     73\u001b[0m \u001b[1;33m\u001b[0m\u001b[0m\n\u001b[0;32m     74\u001b[0m         \u001b[0misraw\u001b[0m \u001b[1;33m=\u001b[0m \u001b[1;36m0\u001b[0m\u001b[1;33m\u001b[0m\u001b[0m\n",
      "\u001b[1;31mAssertionError\u001b[0m: Cannot find installation of real FFmpeg (which comes with ffprobe)."
     ],
     "output_type": "error"
    }
   ],
   "source": [
    "# A script download digital painting time lapse videos from YouTube (there are a few Vimeo videos that will need to be \n",
    "# downloaded manually). Once the video files are saved to disk, this script will extract the specified\n",
    "# frames, crop them to the painting, and save them in a pkl file.\n",
    "\n",
    "# Run these if you do not have the dependencies yet\n",
    "#!pip install pytube3\n",
    "#!pip install sk-video\n",
    "\n",
    "import os\n",
    "from pytube import YouTube\n",
    "import pickle\n",
    "import skvideo.io as skvio\n",
    "\n",
    "vid_info_dir = \"\"  # location where you downloaded the digital painting .pkl files\n",
    "out_vids_dir = \"\"  # location to download videos to\n",
    "out_vid_info_dir = \"\"  # location to save .pkls (with frame information -- will be LARGE files!) to\n",
    "\n",
    "pkl_filenames = [f for f in os.listdir(vid_info_dir) if f.endswith('.pkl')]\n",
    "\n",
    "# Download each video from YouTube\n",
    "did_not_download = []\n",
    "for pkl_filename in pkl_filenames:\n",
    "    vid_name = pkl_filename.strip('.pkl')\n",
    "    \n",
    "    # the first hyphen splits the video owner name and video id\n",
    "    vid_id = vid_name[vid_name.index('_') + 1:]\n",
    "    \n",
    "    vid_url = f'https://www.youtube.com/watch?v={vid_id}'\n",
    "    print('Attempting to download {}'.format(vid_url))\n",
    "\n",
    "\n",
    "    vid_file = os.path.join(out_vids_dir, '{}.mp4'.format(vid_name))\n",
    "    vid_frames_dir = os.path.join(out_vid_info_dir, vid_name)\n",
    "        \n",
    "    yt = YouTube(vid_url)\n",
    "\n",
    "    # if we have the video already, don't bother tryinkg to download it\n",
    "    if not os.path.isfile(vid_file):\n",
    "        for s in yt.streams.all():\n",
    "            if s is None or s.resolution is None or s.mime_type is None:\n",
    "                continue\n",
    "            if '360' in s.resolution and \"mp4\" in s.mime_type:\n",
    "                try:\n",
    "                    print('Downloading stream {} to file {}'.format(s, vid_file))\n",
    "                    # download the video in 360p\n",
    "                    s.download(out_vids_dir, filename=vid_name)\n",
    "                    break\n",
    "                except:\n",
    "                    print('Could not download {}, trying another...'.format(s))\n",
    "\n",
    "        if not os.path.isfile(vid_file):\n",
    "            print('Could not download {}, skipping! Try looking on Vimeo manually for the same ID.'.format(vid_name))\n",
    "            did_not_download.append(vid_file)\n",
    "            continue\n",
    "\n",
    "    if not os.path.isdir(vid_frames_dir):\n",
    "        os.mkdir(vid_frames_dir)\n",
    "\n",
    "    # load the information we need to extract the right frames\n",
    "    with open(os.path.join(vid_info_dir, pkl_filename), 'rb') as pf:\n",
    "        vid_info = pickle.load(pf) \n",
    "    if 'frames' not in vid_info.keys():\n",
    "        vid_info['frames'] = [None] * len(vid_info['framenums'])\n",
    "    # now open the video file we just downloaded, and extract the frames from it\n",
    "    reader = skvio.FFmpegReader(vid_file)\n",
    "    \n",
    "    for i, frame in enumerate(reader.nextFrame()):\n",
    "        if i in vid_info['framenums']:\n",
    "            frame = frame[..., [2, 1, 0]]  # make it into BGR format for opencv\n",
    "            \n",
    "            # crop it according to the saved croprect\n",
    "            frame = frame[int(vid_info['crop_start_xy'][1]):int(vid_info['crop_end_xy'][1]), int(vid_info['crop_start_xy'][0]):int(vid_info['crop_end_xy'][0])]\n",
    "            frame = cv2.resize(frame, None, fx=0.5, fy=0.5)\n",
    "            vid_info['frames'][vid_info['framenums'].index(i)] = frame\n",
    "            \n",
    "    with open(os.path.join(out_vid_info_dir, pkl_filename), 'rb') as pf:\n",
    "        pickle.dump(vid_info, pf, protocol=4)  # protocol 4 allows for larger file sizes\n",
    "        \n",
    "print('Did not download the following files: {}'.format(did_not_download))\n"
   ]
  }
 ],
 "metadata": {
  "kernelspec": {
   "display_name": "Python 3",
   "language": "python",
   "name": "python3"
  },
  "language_info": {
   "codemirror_mode": {
    "name": "ipython",
    "version": 3
   },
   "file_extension": ".py",
   "mimetype": "text/x-python",
   "name": "python",
   "nbconvert_exporter": "python",
   "pygments_lexer": "ipython3",
   "version": "3.6.4"
  }
 },
 "nbformat": 4,
 "nbformat_minor": 1
}
